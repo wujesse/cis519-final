{
  "nbformat": 4,
  "nbformat_minor": 0,
  "metadata": {
    "colab": {
      "name": "volume-feature.ipynb",
      "provenance": [],
      "toc_visible": true
    },
    "kernelspec": {
      "name": "python3",
      "display_name": "Python 3"
    },
    "language_info": {
      "name": "python"
    }
  },
  "cells": [
    {
      "cell_type": "code",
      "metadata": {
        "id": "azO1sf6csdmJ"
      },
      "source": [
        "import numpy as np\n",
        "import pandas as pd\n",
        "import torch\n",
        "import torch.nn as nn\n",
        "import torch.optim as optim\n",
        "import tensorflow as tf\n",
        "import matplotlib.pyplot as plt\n",
        "from tensorflow import keras\n",
        "from tensorflow.keras import layers\n",
        "from tensorflow.keras import backend\n",
        "from sklearn.model_selection import train_test_split\n",
        "from sklearn.model_selection import TimeSeriesSplit\n",
        "from sklearn.neural_network import MLPRegressor\n",
        "from sklearn.metrics import mean_squared_error\n",
        "from sklearn.preprocessing import MinMaxScaler\n",
        "from sklearn.preprocessing import StandardScaler"
      ],
      "execution_count": null,
      "outputs": []
    },
    {
      "cell_type": "markdown",
      "metadata": {
        "id": "03DGstXI2Bnu"
      },
      "source": [
        "# Milestone stuff"
      ]
    },
    {
      "cell_type": "code",
      "metadata": {
        "id": "3qTf_C1ZwG5t"
      },
      "source": [
        "filepath = 'SPY.csv'\n",
        "raw_df = pd.read_csv(filepath)"
      ],
      "execution_count": null,
      "outputs": []
    },
    {
      "cell_type": "code",
      "metadata": {
        "colab": {
          "base_uri": "https://localhost:8080/",
          "height": 202
        },
        "id": "OSQxK3-Z0JOd",
        "outputId": "64e301b9-d97e-4ee2-cb41-c90902d713bc"
      },
      "source": [
        "raw_df.head()"
      ],
      "execution_count": null,
      "outputs": [
        {
          "output_type": "execute_result",
          "data": {
            "text/html": [
              "<div>\n",
              "<style scoped>\n",
              "    .dataframe tbody tr th:only-of-type {\n",
              "        vertical-align: middle;\n",
              "    }\n",
              "\n",
              "    .dataframe tbody tr th {\n",
              "        vertical-align: top;\n",
              "    }\n",
              "\n",
              "    .dataframe thead th {\n",
              "        text-align: right;\n",
              "    }\n",
              "</style>\n",
              "<table border=\"1\" class=\"dataframe\">\n",
              "  <thead>\n",
              "    <tr style=\"text-align: right;\">\n",
              "      <th></th>\n",
              "      <th>Date</th>\n",
              "      <th>Open</th>\n",
              "      <th>High</th>\n",
              "      <th>Low</th>\n",
              "      <th>Close</th>\n",
              "      <th>Adj Close</th>\n",
              "      <th>Volume</th>\n",
              "    </tr>\n",
              "  </thead>\n",
              "  <tbody>\n",
              "    <tr>\n",
              "      <th>0</th>\n",
              "      <td>2018-01-02</td>\n",
              "      <td>267.839996</td>\n",
              "      <td>268.809998</td>\n",
              "      <td>267.399994</td>\n",
              "      <td>268.769989</td>\n",
              "      <td>253.283142</td>\n",
              "      <td>86655700</td>\n",
              "    </tr>\n",
              "    <tr>\n",
              "      <th>1</th>\n",
              "      <td>2018-01-03</td>\n",
              "      <td>268.959991</td>\n",
              "      <td>270.640015</td>\n",
              "      <td>268.959991</td>\n",
              "      <td>270.470001</td>\n",
              "      <td>254.885162</td>\n",
              "      <td>90070400</td>\n",
              "    </tr>\n",
              "    <tr>\n",
              "      <th>2</th>\n",
              "      <td>2018-01-04</td>\n",
              "      <td>271.200012</td>\n",
              "      <td>272.160004</td>\n",
              "      <td>270.540009</td>\n",
              "      <td>271.609985</td>\n",
              "      <td>255.959488</td>\n",
              "      <td>80636400</td>\n",
              "    </tr>\n",
              "    <tr>\n",
              "      <th>3</th>\n",
              "      <td>2018-01-05</td>\n",
              "      <td>272.510010</td>\n",
              "      <td>273.559998</td>\n",
              "      <td>271.950012</td>\n",
              "      <td>273.420013</td>\n",
              "      <td>257.665283</td>\n",
              "      <td>83524000</td>\n",
              "    </tr>\n",
              "    <tr>\n",
              "      <th>4</th>\n",
              "      <td>2018-01-08</td>\n",
              "      <td>273.309998</td>\n",
              "      <td>274.100006</td>\n",
              "      <td>272.980011</td>\n",
              "      <td>273.920013</td>\n",
              "      <td>258.136414</td>\n",
              "      <td>57319200</td>\n",
              "    </tr>\n",
              "  </tbody>\n",
              "</table>\n",
              "</div>"
            ],
            "text/plain": [
              "         Date        Open        High  ...       Close   Adj Close    Volume\n",
              "0  2018-01-02  267.839996  268.809998  ...  268.769989  253.283142  86655700\n",
              "1  2018-01-03  268.959991  270.640015  ...  270.470001  254.885162  90070400\n",
              "2  2018-01-04  271.200012  272.160004  ...  271.609985  255.959488  80636400\n",
              "3  2018-01-05  272.510010  273.559998  ...  273.420013  257.665283  83524000\n",
              "4  2018-01-08  273.309998  274.100006  ...  273.920013  258.136414  57319200\n",
              "\n",
              "[5 rows x 7 columns]"
            ]
          },
          "metadata": {
            "tags": []
          },
          "execution_count": 5
        }
      ]
    },
    {
      "cell_type": "code",
      "metadata": {
        "id": "28HVFewrxz0e"
      },
      "source": [
        "df = raw_df.copy()\n",
        "columns = ['Open', 'High', 'Low', 'Close', 'Adj Close', 'Volume']\n",
        "for index in range(15):\n",
        "  shift = index + 1\n",
        "  for col in columns:\n",
        "    col_name = 'Day - ' +str(shift) + ' ' + col\n",
        "    series = raw_df[col].shift(periods=shift)\n",
        "    df[col_name] = series"
      ],
      "execution_count": null,
      "outputs": []
    },
    {
      "cell_type": "code",
      "metadata": {
        "colab": {
          "base_uri": "https://localhost:8080/",
          "height": 252
        },
        "id": "7-qp_89u01jw",
        "outputId": "27d236f6-ba68-4449-8c50-241e360988d4"
      },
      "source": [
        "df = df.drop(range(15)).drop(['Date', 'Open', 'High', 'Low', 'Close', 'Adj Close', 'Volume'], axis=1)\n",
        "df = df.reset_index(drop=True)\n",
        "min_max_scaler = MinMaxScaler()\n",
        "df = pd.DataFrame(min_max_scaler.fit_transform(df))\n",
        "df.head()"
      ],
      "execution_count": null,
      "outputs": [
        {
          "output_type": "execute_result",
          "data": {
            "text/html": [
              "<div>\n",
              "<style scoped>\n",
              "    .dataframe tbody tr th:only-of-type {\n",
              "        vertical-align: middle;\n",
              "    }\n",
              "\n",
              "    .dataframe tbody tr th {\n",
              "        vertical-align: top;\n",
              "    }\n",
              "\n",
              "    .dataframe thead th {\n",
              "        text-align: right;\n",
              "    }\n",
              "</style>\n",
              "<table border=\"1\" class=\"dataframe\">\n",
              "  <thead>\n",
              "    <tr style=\"text-align: right;\">\n",
              "      <th></th>\n",
              "      <th>0</th>\n",
              "      <th>1</th>\n",
              "      <th>2</th>\n",
              "      <th>3</th>\n",
              "      <th>4</th>\n",
              "      <th>5</th>\n",
              "      <th>6</th>\n",
              "      <th>7</th>\n",
              "      <th>8</th>\n",
              "      <th>9</th>\n",
              "      <th>10</th>\n",
              "      <th>11</th>\n",
              "      <th>12</th>\n",
              "      <th>13</th>\n",
              "      <th>14</th>\n",
              "      <th>15</th>\n",
              "      <th>16</th>\n",
              "      <th>17</th>\n",
              "      <th>18</th>\n",
              "      <th>19</th>\n",
              "      <th>20</th>\n",
              "      <th>21</th>\n",
              "      <th>22</th>\n",
              "      <th>23</th>\n",
              "      <th>24</th>\n",
              "      <th>25</th>\n",
              "      <th>26</th>\n",
              "      <th>27</th>\n",
              "      <th>28</th>\n",
              "      <th>29</th>\n",
              "      <th>30</th>\n",
              "      <th>31</th>\n",
              "      <th>32</th>\n",
              "      <th>33</th>\n",
              "      <th>34</th>\n",
              "      <th>35</th>\n",
              "      <th>36</th>\n",
              "      <th>37</th>\n",
              "      <th>38</th>\n",
              "      <th>39</th>\n",
              "      <th>...</th>\n",
              "      <th>50</th>\n",
              "      <th>51</th>\n",
              "      <th>52</th>\n",
              "      <th>53</th>\n",
              "      <th>54</th>\n",
              "      <th>55</th>\n",
              "      <th>56</th>\n",
              "      <th>57</th>\n",
              "      <th>58</th>\n",
              "      <th>59</th>\n",
              "      <th>60</th>\n",
              "      <th>61</th>\n",
              "      <th>62</th>\n",
              "      <th>63</th>\n",
              "      <th>64</th>\n",
              "      <th>65</th>\n",
              "      <th>66</th>\n",
              "      <th>67</th>\n",
              "      <th>68</th>\n",
              "      <th>69</th>\n",
              "      <th>70</th>\n",
              "      <th>71</th>\n",
              "      <th>72</th>\n",
              "      <th>73</th>\n",
              "      <th>74</th>\n",
              "      <th>75</th>\n",
              "      <th>76</th>\n",
              "      <th>77</th>\n",
              "      <th>78</th>\n",
              "      <th>79</th>\n",
              "      <th>80</th>\n",
              "      <th>81</th>\n",
              "      <th>82</th>\n",
              "      <th>83</th>\n",
              "      <th>84</th>\n",
              "      <th>85</th>\n",
              "      <th>86</th>\n",
              "      <th>87</th>\n",
              "      <th>88</th>\n",
              "      <th>89</th>\n",
              "    </tr>\n",
              "  </thead>\n",
              "  <tbody>\n",
              "    <tr>\n",
              "      <th>0</th>\n",
              "      <td>0.374605</td>\n",
              "      <td>0.362549</td>\n",
              "      <td>0.419541</td>\n",
              "      <td>0.404180</td>\n",
              "      <td>0.313716</td>\n",
              "      <td>0.206518</td>\n",
              "      <td>0.361600</td>\n",
              "      <td>0.356298</td>\n",
              "      <td>0.404751</td>\n",
              "      <td>0.400161</td>\n",
              "      <td>0.309984</td>\n",
              "      <td>0.191026</td>\n",
              "      <td>0.359026</td>\n",
              "      <td>0.340973</td>\n",
              "      <td>0.398456</td>\n",
              "      <td>0.384889</td>\n",
              "      <td>0.298772</td>\n",
              "      <td>0.324371</td>\n",
              "      <td>0.356800</td>\n",
              "      <td>0.337949</td>\n",
              "      <td>0.394790</td>\n",
              "      <td>0.376382</td>\n",
              "      <td>0.290794</td>\n",
              "      <td>0.216314</td>\n",
              "      <td>0.346713</td>\n",
              "      <td>0.338554</td>\n",
              "      <td>0.384253</td>\n",
              "      <td>0.379530</td>\n",
              "      <td>0.293746</td>\n",
              "      <td>0.250003</td>\n",
              "      <td>0.355896</td>\n",
              "      <td>0.338822</td>\n",
              "      <td>0.379082</td>\n",
              "      <td>0.361846</td>\n",
              "      <td>0.277163</td>\n",
              "      <td>0.231980</td>\n",
              "      <td>0.335513</td>\n",
              "      <td>0.339193</td>\n",
              "      <td>0.378428</td>\n",
              "      <td>0.368210</td>\n",
              "      <td>...</td>\n",
              "      <td>0.362924</td>\n",
              "      <td>0.347575</td>\n",
              "      <td>0.262859</td>\n",
              "      <td>0.132556</td>\n",
              "      <td>0.323849</td>\n",
              "      <td>0.322346</td>\n",
              "      <td>0.373478</td>\n",
              "      <td>0.350428</td>\n",
              "      <td>0.265534</td>\n",
              "      <td>0.099433</td>\n",
              "      <td>0.316210</td>\n",
              "      <td>0.314211</td>\n",
              "      <td>0.366118</td>\n",
              "      <td>0.346217</td>\n",
              "      <td>0.261585</td>\n",
              "      <td>0.099608</td>\n",
              "      <td>0.310603</td>\n",
              "      <td>0.310391</td>\n",
              "      <td>0.359227</td>\n",
              "      <td>0.342820</td>\n",
              "      <td>0.258401</td>\n",
              "      <td>0.170060</td>\n",
              "      <td>0.301423</td>\n",
              "      <td>0.300488</td>\n",
              "      <td>0.349793</td>\n",
              "      <td>0.330526</td>\n",
              "      <td>0.246873</td>\n",
              "      <td>0.162297</td>\n",
              "      <td>0.285724</td>\n",
              "      <td>0.289736</td>\n",
              "      <td>0.339221</td>\n",
              "      <td>0.322782</td>\n",
              "      <td>0.239612</td>\n",
              "      <td>0.187660</td>\n",
              "      <td>0.281545</td>\n",
              "      <td>0.277321</td>\n",
              "      <td>0.328784</td>\n",
              "      <td>0.311235</td>\n",
              "      <td>0.228785</td>\n",
              "      <td>0.178480</td>\n",
              "    </tr>\n",
              "    <tr>\n",
              "      <th>1</th>\n",
              "      <td>0.383395</td>\n",
              "      <td>0.369808</td>\n",
              "      <td>0.416072</td>\n",
              "      <td>0.403443</td>\n",
              "      <td>0.313031</td>\n",
              "      <td>0.307960</td>\n",
              "      <td>0.379478</td>\n",
              "      <td>0.362549</td>\n",
              "      <td>0.419541</td>\n",
              "      <td>0.404180</td>\n",
              "      <td>0.313716</td>\n",
              "      <td>0.206518</td>\n",
              "      <td>0.361600</td>\n",
              "      <td>0.356298</td>\n",
              "      <td>0.404804</td>\n",
              "      <td>0.400161</td>\n",
              "      <td>0.313094</td>\n",
              "      <td>0.191026</td>\n",
              "      <td>0.359026</td>\n",
              "      <td>0.340973</td>\n",
              "      <td>0.398456</td>\n",
              "      <td>0.384889</td>\n",
              "      <td>0.298772</td>\n",
              "      <td>0.324371</td>\n",
              "      <td>0.356800</td>\n",
              "      <td>0.337949</td>\n",
              "      <td>0.394790</td>\n",
              "      <td>0.376382</td>\n",
              "      <td>0.290794</td>\n",
              "      <td>0.216314</td>\n",
              "      <td>0.346713</td>\n",
              "      <td>0.338554</td>\n",
              "      <td>0.384253</td>\n",
              "      <td>0.379530</td>\n",
              "      <td>0.293746</td>\n",
              "      <td>0.250003</td>\n",
              "      <td>0.355896</td>\n",
              "      <td>0.353061</td>\n",
              "      <td>0.379082</td>\n",
              "      <td>0.361846</td>\n",
              "      <td>...</td>\n",
              "      <td>0.373813</td>\n",
              "      <td>0.361160</td>\n",
              "      <td>0.275597</td>\n",
              "      <td>0.113164</td>\n",
              "      <td>0.318803</td>\n",
              "      <td>0.316475</td>\n",
              "      <td>0.365717</td>\n",
              "      <td>0.347575</td>\n",
              "      <td>0.262859</td>\n",
              "      <td>0.132556</td>\n",
              "      <td>0.323849</td>\n",
              "      <td>0.322346</td>\n",
              "      <td>0.373478</td>\n",
              "      <td>0.350428</td>\n",
              "      <td>0.265534</td>\n",
              "      <td>0.099433</td>\n",
              "      <td>0.316210</td>\n",
              "      <td>0.314211</td>\n",
              "      <td>0.366118</td>\n",
              "      <td>0.346217</td>\n",
              "      <td>0.261585</td>\n",
              "      <td>0.099608</td>\n",
              "      <td>0.310603</td>\n",
              "      <td>0.310391</td>\n",
              "      <td>0.359227</td>\n",
              "      <td>0.342820</td>\n",
              "      <td>0.258401</td>\n",
              "      <td>0.170060</td>\n",
              "      <td>0.301423</td>\n",
              "      <td>0.300488</td>\n",
              "      <td>0.349793</td>\n",
              "      <td>0.330526</td>\n",
              "      <td>0.246873</td>\n",
              "      <td>0.162297</td>\n",
              "      <td>0.289498</td>\n",
              "      <td>0.290291</td>\n",
              "      <td>0.339221</td>\n",
              "      <td>0.322782</td>\n",
              "      <td>0.239612</td>\n",
              "      <td>0.187660</td>\n",
              "    </tr>\n",
              "    <tr>\n",
              "      <th>2</th>\n",
              "      <td>0.384357</td>\n",
              "      <td>0.366918</td>\n",
              "      <td>0.419737</td>\n",
              "      <td>0.404247</td>\n",
              "      <td>0.313778</td>\n",
              "      <td>0.172919</td>\n",
              "      <td>0.388383</td>\n",
              "      <td>0.369808</td>\n",
              "      <td>0.416072</td>\n",
              "      <td>0.403443</td>\n",
              "      <td>0.313031</td>\n",
              "      <td>0.307960</td>\n",
              "      <td>0.379478</td>\n",
              "      <td>0.362549</td>\n",
              "      <td>0.419596</td>\n",
              "      <td>0.404180</td>\n",
              "      <td>0.316863</td>\n",
              "      <td>0.206518</td>\n",
              "      <td>0.361600</td>\n",
              "      <td>0.356298</td>\n",
              "      <td>0.404804</td>\n",
              "      <td>0.400161</td>\n",
              "      <td>0.313094</td>\n",
              "      <td>0.191026</td>\n",
              "      <td>0.359026</td>\n",
              "      <td>0.340973</td>\n",
              "      <td>0.398456</td>\n",
              "      <td>0.384889</td>\n",
              "      <td>0.298772</td>\n",
              "      <td>0.324371</td>\n",
              "      <td>0.356800</td>\n",
              "      <td>0.337949</td>\n",
              "      <td>0.394790</td>\n",
              "      <td>0.376382</td>\n",
              "      <td>0.290794</td>\n",
              "      <td>0.216314</td>\n",
              "      <td>0.346713</td>\n",
              "      <td>0.352780</td>\n",
              "      <td>0.384253</td>\n",
              "      <td>0.379530</td>\n",
              "      <td>...</td>\n",
              "      <td>0.383905</td>\n",
              "      <td>0.373387</td>\n",
              "      <td>0.287062</td>\n",
              "      <td>0.189665</td>\n",
              "      <td>0.326302</td>\n",
              "      <td>0.328500</td>\n",
              "      <td>0.376689</td>\n",
              "      <td>0.361160</td>\n",
              "      <td>0.275597</td>\n",
              "      <td>0.113164</td>\n",
              "      <td>0.318803</td>\n",
              "      <td>0.316475</td>\n",
              "      <td>0.365717</td>\n",
              "      <td>0.347575</td>\n",
              "      <td>0.262859</td>\n",
              "      <td>0.132556</td>\n",
              "      <td>0.323849</td>\n",
              "      <td>0.322346</td>\n",
              "      <td>0.373478</td>\n",
              "      <td>0.350428</td>\n",
              "      <td>0.265534</td>\n",
              "      <td>0.099433</td>\n",
              "      <td>0.316210</td>\n",
              "      <td>0.314211</td>\n",
              "      <td>0.366118</td>\n",
              "      <td>0.346217</td>\n",
              "      <td>0.261585</td>\n",
              "      <td>0.099608</td>\n",
              "      <td>0.310603</td>\n",
              "      <td>0.310391</td>\n",
              "      <td>0.359227</td>\n",
              "      <td>0.342820</td>\n",
              "      <td>0.258401</td>\n",
              "      <td>0.170060</td>\n",
              "      <td>0.305404</td>\n",
              "      <td>0.301063</td>\n",
              "      <td>0.349793</td>\n",
              "      <td>0.330526</td>\n",
              "      <td>0.246873</td>\n",
              "      <td>0.162297</td>\n",
              "    </tr>\n",
              "    <tr>\n",
              "      <th>3</th>\n",
              "      <td>0.384975</td>\n",
              "      <td>0.382780</td>\n",
              "      <td>0.429946</td>\n",
              "      <td>0.426217</td>\n",
              "      <td>0.334177</td>\n",
              "      <td>0.235174</td>\n",
              "      <td>0.389357</td>\n",
              "      <td>0.366918</td>\n",
              "      <td>0.419737</td>\n",
              "      <td>0.404247</td>\n",
              "      <td>0.313778</td>\n",
              "      <td>0.172919</td>\n",
              "      <td>0.388383</td>\n",
              "      <td>0.369808</td>\n",
              "      <td>0.416127</td>\n",
              "      <td>0.403443</td>\n",
              "      <td>0.316172</td>\n",
              "      <td>0.307960</td>\n",
              "      <td>0.379478</td>\n",
              "      <td>0.362549</td>\n",
              "      <td>0.419596</td>\n",
              "      <td>0.404180</td>\n",
              "      <td>0.316863</td>\n",
              "      <td>0.206518</td>\n",
              "      <td>0.361600</td>\n",
              "      <td>0.356298</td>\n",
              "      <td>0.404804</td>\n",
              "      <td>0.400161</td>\n",
              "      <td>0.313094</td>\n",
              "      <td>0.191026</td>\n",
              "      <td>0.359026</td>\n",
              "      <td>0.340973</td>\n",
              "      <td>0.398456</td>\n",
              "      <td>0.384889</td>\n",
              "      <td>0.298772</td>\n",
              "      <td>0.324371</td>\n",
              "      <td>0.356800</td>\n",
              "      <td>0.352150</td>\n",
              "      <td>0.394790</td>\n",
              "      <td>0.376382</td>\n",
              "      <td>...</td>\n",
              "      <td>0.384569</td>\n",
              "      <td>0.366934</td>\n",
              "      <td>0.281011</td>\n",
              "      <td>0.231980</td>\n",
              "      <td>0.338006</td>\n",
              "      <td>0.342576</td>\n",
              "      <td>0.386859</td>\n",
              "      <td>0.373387</td>\n",
              "      <td>0.287062</td>\n",
              "      <td>0.189665</td>\n",
              "      <td>0.326302</td>\n",
              "      <td>0.328500</td>\n",
              "      <td>0.376689</td>\n",
              "      <td>0.361160</td>\n",
              "      <td>0.275597</td>\n",
              "      <td>0.113164</td>\n",
              "      <td>0.318803</td>\n",
              "      <td>0.316475</td>\n",
              "      <td>0.365717</td>\n",
              "      <td>0.347575</td>\n",
              "      <td>0.262859</td>\n",
              "      <td>0.132556</td>\n",
              "      <td>0.323849</td>\n",
              "      <td>0.322346</td>\n",
              "      <td>0.373478</td>\n",
              "      <td>0.350428</td>\n",
              "      <td>0.265534</td>\n",
              "      <td>0.099433</td>\n",
              "      <td>0.316210</td>\n",
              "      <td>0.314211</td>\n",
              "      <td>0.366118</td>\n",
              "      <td>0.346217</td>\n",
              "      <td>0.261585</td>\n",
              "      <td>0.099608</td>\n",
              "      <td>0.314706</td>\n",
              "      <td>0.310985</td>\n",
              "      <td>0.359227</td>\n",
              "      <td>0.342820</td>\n",
              "      <td>0.258401</td>\n",
              "      <td>0.170060</td>\n",
              "    </tr>\n",
              "    <tr>\n",
              "      <th>4</th>\n",
              "      <td>0.396511</td>\n",
              "      <td>0.381436</td>\n",
              "      <td>0.433479</td>\n",
              "      <td>0.413491</td>\n",
              "      <td>0.322360</td>\n",
              "      <td>0.187789</td>\n",
              "      <td>0.389983</td>\n",
              "      <td>0.382780</td>\n",
              "      <td>0.429946</td>\n",
              "      <td>0.426217</td>\n",
              "      <td>0.334177</td>\n",
              "      <td>0.235174</td>\n",
              "      <td>0.389357</td>\n",
              "      <td>0.366918</td>\n",
              "      <td>0.419792</td>\n",
              "      <td>0.404247</td>\n",
              "      <td>0.316926</td>\n",
              "      <td>0.172919</td>\n",
              "      <td>0.388383</td>\n",
              "      <td>0.369808</td>\n",
              "      <td>0.416127</td>\n",
              "      <td>0.403443</td>\n",
              "      <td>0.316172</td>\n",
              "      <td>0.307960</td>\n",
              "      <td>0.379478</td>\n",
              "      <td>0.362549</td>\n",
              "      <td>0.419596</td>\n",
              "      <td>0.404180</td>\n",
              "      <td>0.316863</td>\n",
              "      <td>0.206518</td>\n",
              "      <td>0.361600</td>\n",
              "      <td>0.356298</td>\n",
              "      <td>0.404804</td>\n",
              "      <td>0.400161</td>\n",
              "      <td>0.313094</td>\n",
              "      <td>0.191026</td>\n",
              "      <td>0.359026</td>\n",
              "      <td>0.355302</td>\n",
              "      <td>0.398456</td>\n",
              "      <td>0.384889</td>\n",
              "      <td>...</td>\n",
              "      <td>0.389815</td>\n",
              "      <td>0.384866</td>\n",
              "      <td>0.297825</td>\n",
              "      <td>0.250003</td>\n",
              "      <td>0.358540</td>\n",
              "      <td>0.356582</td>\n",
              "      <td>0.387528</td>\n",
              "      <td>0.366934</td>\n",
              "      <td>0.281011</td>\n",
              "      <td>0.231980</td>\n",
              "      <td>0.338006</td>\n",
              "      <td>0.342576</td>\n",
              "      <td>0.386859</td>\n",
              "      <td>0.373387</td>\n",
              "      <td>0.287062</td>\n",
              "      <td>0.189665</td>\n",
              "      <td>0.326302</td>\n",
              "      <td>0.328500</td>\n",
              "      <td>0.376689</td>\n",
              "      <td>0.361160</td>\n",
              "      <td>0.275597</td>\n",
              "      <td>0.113164</td>\n",
              "      <td>0.318803</td>\n",
              "      <td>0.316475</td>\n",
              "      <td>0.365717</td>\n",
              "      <td>0.347575</td>\n",
              "      <td>0.262859</td>\n",
              "      <td>0.132556</td>\n",
              "      <td>0.323849</td>\n",
              "      <td>0.322346</td>\n",
              "      <td>0.373478</td>\n",
              "      <td>0.350428</td>\n",
              "      <td>0.265534</td>\n",
              "      <td>0.099433</td>\n",
              "      <td>0.320386</td>\n",
              "      <td>0.314812</td>\n",
              "      <td>0.366118</td>\n",
              "      <td>0.346217</td>\n",
              "      <td>0.261585</td>\n",
              "      <td>0.099608</td>\n",
              "    </tr>\n",
              "  </tbody>\n",
              "</table>\n",
              "<p>5 rows × 90 columns</p>\n",
              "</div>"
            ],
            "text/plain": [
              "         0         1         2   ...        87        88        89\n",
              "0  0.374605  0.362549  0.419541  ...  0.311235  0.228785  0.178480\n",
              "1  0.383395  0.369808  0.416072  ...  0.322782  0.239612  0.187660\n",
              "2  0.384357  0.366918  0.419737  ...  0.330526  0.246873  0.162297\n",
              "3  0.384975  0.382780  0.429946  ...  0.342820  0.258401  0.170060\n",
              "4  0.396511  0.381436  0.433479  ...  0.346217  0.261585  0.099608\n",
              "\n",
              "[5 rows x 90 columns]"
            ]
          },
          "metadata": {
            "tags": []
          },
          "execution_count": 7
        }
      ]
    },
    {
      "cell_type": "code",
      "metadata": {
        "colab": {
          "base_uri": "https://localhost:8080/"
        },
        "id": "v_cIvVcd6N4V",
        "outputId": "cb727236-1a3b-4252-fed9-3a6f8b6cb372"
      },
      "source": [
        "df.shape"
      ],
      "execution_count": null,
      "outputs": [
        {
          "output_type": "execute_result",
          "data": {
            "text/plain": [
              "(740, 90)"
            ]
          },
          "metadata": {
            "tags": []
          },
          "execution_count": 8
        }
      ]
    },
    {
      "cell_type": "code",
      "metadata": {
        "colab": {
          "base_uri": "https://localhost:8080/"
        },
        "id": "8uq12Vns64Vq",
        "outputId": "787d5e45-b1c6-4ccb-ed59-bbf0a41d7188"
      },
      "source": [
        "y = raw_df[['Adj Close']].drop(range(15)).reset_index(drop=True)\n",
        "y = pd.DataFrame(min_max_scaler.fit_transform(y))\n",
        "y.shape"
      ],
      "execution_count": null,
      "outputs": [
        {
          "output_type": "execute_result",
          "data": {
            "text/plain": [
              "(740, 1)"
            ]
          },
          "metadata": {
            "tags": []
          },
          "execution_count": 9
        }
      ]
    },
    {
      "cell_type": "code",
      "metadata": {
        "id": "uOkuaCbr7UZ4"
      },
      "source": [
        "X_train, X_test, y_train, y_test = train_test_split(df.to_numpy(), y.to_numpy())"
      ],
      "execution_count": null,
      "outputs": []
    },
    {
      "cell_type": "code",
      "metadata": {
        "id": "QTmCyU5kRCuJ"
      },
      "source": [
        "model = MLPRegressor(hidden_layer_sizes=(50, 50, 25, 15), random_state=42, max_iter=1000)\n",
        "model.fit(X_train, y_train.ravel())\n",
        "pred = model.predict(X_train)"
      ],
      "execution_count": null,
      "outputs": []
    },
    {
      "cell_type": "code",
      "metadata": {
        "colab": {
          "base_uri": "https://localhost:8080/"
        },
        "id": "6w5O0TgYUzTm",
        "outputId": "1114d820-1eb1-4899-de91-ea853f2cf6d4"
      },
      "source": [
        "pred[:10]"
      ],
      "execution_count": null,
      "outputs": [
        {
          "output_type": "execute_result",
          "data": {
            "text/plain": [
              "array([0.87575996, 0.53518958, 0.79753711, 0.8141275 , 0.26240627,\n",
              "       0.97035387, 0.27997387, 0.63787406, 0.68879032, 0.56963296])"
            ]
          },
          "metadata": {
            "tags": []
          },
          "execution_count": 12
        }
      ]
    },
    {
      "cell_type": "code",
      "metadata": {
        "colab": {
          "base_uri": "https://localhost:8080/"
        },
        "id": "dKQ_BImkUekD",
        "outputId": "4483a6d7-c9c5-4594-b58a-b399880349b5"
      },
      "source": [
        "mean_squared_error(y_train.ravel(), pred)"
      ],
      "execution_count": null,
      "outputs": [
        {
          "output_type": "execute_result",
          "data": {
            "text/plain": [
              "0.002029235355092607"
            ]
          },
          "metadata": {
            "tags": []
          },
          "execution_count": 13
        }
      ]
    },
    {
      "cell_type": "code",
      "metadata": {
        "colab": {
          "base_uri": "https://localhost:8080/"
        },
        "id": "OdPI2YUoajSv",
        "outputId": "c8fa3b41-cbbb-43cb-b24b-e6a1b011fa1d"
      },
      "source": [
        "pred = model.predict(X_test)\n",
        "mean_squared_error(y_test, pred)"
      ],
      "execution_count": null,
      "outputs": [
        {
          "output_type": "execute_result",
          "data": {
            "text/plain": [
              "0.0014151492067540012"
            ]
          },
          "metadata": {
            "tags": []
          },
          "execution_count": 14
        }
      ]
    },
    {
      "cell_type": "markdown",
      "metadata": {
        "id": "OAcpoUgo2F0N"
      },
      "source": [
        "# Final messing around"
      ]
    },
    {
      "cell_type": "code",
      "metadata": {
        "colab": {
          "base_uri": "https://localhost:8080/",
          "height": 204
        },
        "id": "m1pSzCRy2pk4",
        "outputId": "066174f2-3105-46fc-cc90-55c920344874"
      },
      "source": [
        "raw_df.tail()"
      ],
      "execution_count": null,
      "outputs": [
        {
          "output_type": "execute_result",
          "data": {
            "text/html": [
              "<div>\n",
              "<style scoped>\n",
              "    .dataframe tbody tr th:only-of-type {\n",
              "        vertical-align: middle;\n",
              "    }\n",
              "\n",
              "    .dataframe tbody tr th {\n",
              "        vertical-align: top;\n",
              "    }\n",
              "\n",
              "    .dataframe thead th {\n",
              "        text-align: right;\n",
              "    }\n",
              "</style>\n",
              "<table border=\"1\" class=\"dataframe\">\n",
              "  <thead>\n",
              "    <tr style=\"text-align: right;\">\n",
              "      <th></th>\n",
              "      <th>Date</th>\n",
              "      <th>Open</th>\n",
              "      <th>High</th>\n",
              "      <th>Low</th>\n",
              "      <th>Close</th>\n",
              "      <th>Adj Close</th>\n",
              "      <th>Volume</th>\n",
              "    </tr>\n",
              "  </thead>\n",
              "  <tbody>\n",
              "    <tr>\n",
              "      <th>5277</th>\n",
              "      <td>2020-12-22</td>\n",
              "      <td>368.209991</td>\n",
              "      <td>368.329987</td>\n",
              "      <td>366.029999</td>\n",
              "      <td>367.239990</td>\n",
              "      <td>366.041107</td>\n",
              "      <td>47949000</td>\n",
              "    </tr>\n",
              "    <tr>\n",
              "      <th>5278</th>\n",
              "      <td>2020-12-23</td>\n",
              "      <td>368.279999</td>\n",
              "      <td>369.619995</td>\n",
              "      <td>367.220001</td>\n",
              "      <td>367.570007</td>\n",
              "      <td>366.370056</td>\n",
              "      <td>46201400</td>\n",
              "    </tr>\n",
              "    <tr>\n",
              "      <th>5279</th>\n",
              "      <td>2020-12-24</td>\n",
              "      <td>368.079987</td>\n",
              "      <td>369.029999</td>\n",
              "      <td>367.450012</td>\n",
              "      <td>369.000000</td>\n",
              "      <td>367.795380</td>\n",
              "      <td>26457900</td>\n",
              "    </tr>\n",
              "    <tr>\n",
              "      <th>5280</th>\n",
              "      <td>2020-12-28</td>\n",
              "      <td>371.739990</td>\n",
              "      <td>372.589996</td>\n",
              "      <td>371.070007</td>\n",
              "      <td>372.170013</td>\n",
              "      <td>370.955048</td>\n",
              "      <td>39000400</td>\n",
              "    </tr>\n",
              "    <tr>\n",
              "      <th>5281</th>\n",
              "      <td>2020-12-29</td>\n",
              "      <td>373.809998</td>\n",
              "      <td>374.000000</td>\n",
              "      <td>370.829987</td>\n",
              "      <td>371.459991</td>\n",
              "      <td>370.247345</td>\n",
              "      <td>53680500</td>\n",
              "    </tr>\n",
              "  </tbody>\n",
              "</table>\n",
              "</div>"
            ],
            "text/plain": [
              "            Date        Open        High  ...       Close   Adj Close    Volume\n",
              "5277  2020-12-22  368.209991  368.329987  ...  367.239990  366.041107  47949000\n",
              "5278  2020-12-23  368.279999  369.619995  ...  367.570007  366.370056  46201400\n",
              "5279  2020-12-24  368.079987  369.029999  ...  369.000000  367.795380  26457900\n",
              "5280  2020-12-28  371.739990  372.589996  ...  372.170013  370.955048  39000400\n",
              "5281  2020-12-29  373.809998  374.000000  ...  371.459991  370.247345  53680500\n",
              "\n",
              "[5 rows x 7 columns]"
            ]
          },
          "metadata": {
            "tags": []
          },
          "execution_count": 78
        }
      ]
    },
    {
      "cell_type": "code",
      "metadata": {
        "id": "kegHf1wc243v"
      },
      "source": [
        "# change timestamp to num days from beginning of data\n",
        "series_df = raw_df.copy()\n",
        "series_df['Date'] = pd.to_datetime(series_df['Date'])\n",
        "series_df['Date'] = series_df['Date'].astype('int64')\n",
        "series_df['Date'] = (series_df['Date'] - series_df.iloc[0, 0]) / 86400000000000\n",
        "series_df['Date'] = series_df['Date'].astype('int64')\n",
        "series_df = series_df.truncate(before=len(series_df)/2)"
      ],
      "execution_count": null,
      "outputs": []
    },
    {
      "cell_type": "code",
      "metadata": {
        "colab": {
          "base_uri": "https://localhost:8080/",
          "height": 258
        },
        "id": "T8ym2TcuHG3R",
        "outputId": "79d10816-6a8f-4f8a-d34e-accceda193ed"
      },
      "source": [
        "corr_df = series_df - series_df.mean()\n",
        "corr_df = corr_df / corr_df.std()\n",
        "plt.matshow(corr_df.corr())\n",
        "plt.colorbar()\n",
        "plt.show()"
      ],
      "execution_count": null,
      "outputs": [
        {
          "output_type": "display_data",
          "data": {
            "image/png": "[encoded data removed]",
            "text/plain": [
              "<Figure size 288x288 with 2 Axes>"
            ]
          },
          "metadata": {
            "tags": [],
            "needs_background": "light"
          }
        }
      ]
    },
    {
      "cell_type": "code",
      "metadata": {
        "colab": {
          "base_uri": "https://localhost:8080/",
          "height": 204
        },
        "id": "Ve3BFEgjPNRy",
        "outputId": "4c5df9f5-414a-4128-fa61-952940cbc5ae"
      },
      "source": [
        "series_df = series_df.drop(columns=['Date', 'Open', 'High', 'Low', 'Adj Close'])\n",
        "series_df.head()"
      ],
      "execution_count": null,
      "outputs": [
        {
          "output_type": "execute_result",
          "data": {
            "text/html": [
              "<div>\n",
              "<style scoped>\n",
              "    .dataframe tbody tr th:only-of-type {\n",
              "        vertical-align: middle;\n",
              "    }\n",
              "\n",
              "    .dataframe tbody tr th {\n",
              "        vertical-align: top;\n",
              "    }\n",
              "\n",
              "    .dataframe thead th {\n",
              "        text-align: right;\n",
              "    }\n",
              "</style>\n",
              "<table border=\"1\" class=\"dataframe\">\n",
              "  <thead>\n",
              "    <tr style=\"text-align: right;\">\n",
              "      <th></th>\n",
              "      <th>Close</th>\n",
              "      <th>Volume</th>\n",
              "    </tr>\n",
              "  </thead>\n",
              "  <tbody>\n",
              "    <tr>\n",
              "      <th>2641</th>\n",
              "      <td>102.870003</td>\n",
              "      <td>256935300</td>\n",
              "    </tr>\n",
              "    <tr>\n",
              "      <th>2642</th>\n",
              "      <td>106.110001</td>\n",
              "      <td>253769400</td>\n",
              "    </tr>\n",
              "    <tr>\n",
              "      <th>2643</th>\n",
              "      <td>107.160004</td>\n",
              "      <td>210842100</td>\n",
              "    </tr>\n",
              "    <tr>\n",
              "      <th>2644</th>\n",
              "      <td>107.959999</td>\n",
              "      <td>144999900</td>\n",
              "    </tr>\n",
              "    <tr>\n",
              "      <th>2645</th>\n",
              "      <td>108.029999</td>\n",
              "      <td>131283600</td>\n",
              "    </tr>\n",
              "  </tbody>\n",
              "</table>\n",
              "</div>"
            ],
            "text/plain": [
              "           Close     Volume\n",
              "2641  102.870003  256935300\n",
              "2642  106.110001  253769400\n",
              "2643  107.160004  210842100\n",
              "2644  107.959999  144999900\n",
              "2645  108.029999  131283600"
            ]
          },
          "metadata": {
            "tags": []
          },
          "execution_count": 610
        }
      ]
    },
    {
      "cell_type": "code",
      "metadata": {
        "colab": {
          "base_uri": "https://localhost:8080/",
          "height": 359
        },
        "id": "jJRZS9xjQdzt",
        "outputId": "1ba94101-5877-4566-e7cb-ee0cf0944ea5"
      },
      "source": [
        "train_df[:10]"
      ],
      "execution_count": null,
      "outputs": [
        {
          "output_type": "execute_result",
          "data": {
            "text/html": [
              "<div>\n",
              "<style scoped>\n",
              "    .dataframe tbody tr th:only-of-type {\n",
              "        vertical-align: middle;\n",
              "    }\n",
              "\n",
              "    .dataframe tbody tr th {\n",
              "        vertical-align: top;\n",
              "    }\n",
              "\n",
              "    .dataframe thead th {\n",
              "        text-align: right;\n",
              "    }\n",
              "</style>\n",
              "<table border=\"1\" class=\"dataframe\">\n",
              "  <thead>\n",
              "    <tr style=\"text-align: right;\">\n",
              "      <th></th>\n",
              "      <th>Close</th>\n",
              "      <th>Volume</th>\n",
              "    </tr>\n",
              "  </thead>\n",
              "  <tbody>\n",
              "    <tr>\n",
              "      <th>2641</th>\n",
              "      <td>102.870003</td>\n",
              "      <td>256935300</td>\n",
              "    </tr>\n",
              "    <tr>\n",
              "      <th>2642</th>\n",
              "      <td>106.110001</td>\n",
              "      <td>253769400</td>\n",
              "    </tr>\n",
              "    <tr>\n",
              "      <th>2643</th>\n",
              "      <td>107.160004</td>\n",
              "      <td>210842100</td>\n",
              "    </tr>\n",
              "    <tr>\n",
              "      <th>2644</th>\n",
              "      <td>107.959999</td>\n",
              "      <td>144999900</td>\n",
              "    </tr>\n",
              "    <tr>\n",
              "      <th>2645</th>\n",
              "      <td>108.029999</td>\n",
              "      <td>131283600</td>\n",
              "    </tr>\n",
              "    <tr>\n",
              "      <th>2646</th>\n",
              "      <td>109.660004</td>\n",
              "      <td>213025900</td>\n",
              "    </tr>\n",
              "    <tr>\n",
              "      <th>2647</th>\n",
              "      <td>109.650002</td>\n",
              "      <td>184426800</td>\n",
              "    </tr>\n",
              "    <tr>\n",
              "      <th>2648</th>\n",
              "      <td>109.680000</td>\n",
              "      <td>232337900</td>\n",
              "    </tr>\n",
              "    <tr>\n",
              "      <th>2649</th>\n",
              "      <td>106.660004</td>\n",
              "      <td>282693400</td>\n",
              "    </tr>\n",
              "    <tr>\n",
              "      <th>2650</th>\n",
              "      <td>107.290001</td>\n",
              "      <td>186709000</td>\n",
              "    </tr>\n",
              "  </tbody>\n",
              "</table>\n",
              "</div>"
            ],
            "text/plain": [
              "           Close     Volume\n",
              "2641  102.870003  256935300\n",
              "2642  106.110001  253769400\n",
              "2643  107.160004  210842100\n",
              "2644  107.959999  144999900\n",
              "2645  108.029999  131283600\n",
              "2646  109.660004  213025900\n",
              "2647  109.650002  184426800\n",
              "2648  109.680000  232337900\n",
              "2649  106.660004  282693400\n",
              "2650  107.290001  186709000"
            ]
          },
          "metadata": {
            "tags": []
          },
          "execution_count": 611
        }
      ]
    },
    {
      "cell_type": "code",
      "metadata": {
        "colab": {
          "base_uri": "https://localhost:8080/",
          "height": 282
        },
        "id": "AplRbf_g4a8b",
        "outputId": "73628b75-b567-479a-a2b6-94995fa720c7"
      },
      "source": [
        "window = 20\n",
        "temp = [(np.array(series_df.iloc[i:i+window]), np.array(series_df.iloc[i+window+1, 0])) \n",
        "          for i in range(len(series_df) // window * window - window - 1)]\n",
        "X, y = zip(*temp)\n",
        "X, y = np.array(X), np.array(y)\n",
        "\n",
        "plt.plot(y)\n",
        "# X_train, X_test, y_train, y_test = train_test_split(X, y)"
      ],
      "execution_count": null,
      "outputs": [
        {
          "output_type": "execute_result",
          "data": {
            "text/plain": [
              "[<matplotlib.lines.Line2D at 0x7f427c14fe90>]"
            ]
          },
          "metadata": {
            "tags": []
          },
          "execution_count": 612
        },
        {
          "output_type": "display_data",
          "data": {
            "image/png": "[encoded data removed]",
            "text/plain": [
              "<Figure size 432x288 with 1 Axes>"
            ]
          },
          "metadata": {
            "tags": [],
            "needs_background": "light"
          }
        }
      ]
    },
    {
      "cell_type": "code",
      "metadata": {
        "id": "TSxu1RNz4P8q"
      },
      "source": [
        "train_size = int(0.7 * len(X))\n",
        "X_train = X[:train_size]\n",
        "y_train = y[:train_size]\n",
        "X_test = X[train_size:]\n",
        "y_test = y[train_size:]"
      ],
      "execution_count": null,
      "outputs": []
    },
    {
      "cell_type": "code",
      "metadata": {
        "id": "iKc-wujnVS4n"
      },
      "source": [
        "X_train_shape = X_train.shape\n",
        "X_test_shape = X_test.shape\n",
        "X_train = X_train.reshape((-1, X_train.shape[2]))\n",
        "X_test = X_test.reshape((-1, X_test.shape[2]))"
      ],
      "execution_count": null,
      "outputs": []
    },
    {
      "cell_type": "code",
      "metadata": {
        "colab": {
          "base_uri": "https://localhost:8080/"
        },
        "id": "sX5RM_A6X4Wb",
        "outputId": "0c7482cc-61e3-4a2d-9058-26bcb36fafd2"
      },
      "source": [
        "X_train.shape"
      ],
      "execution_count": null,
      "outputs": [
        {
          "output_type": "execute_result",
          "data": {
            "text/plain": [
              "array([[1.02870003e+02, 2.56935300e+08],\n",
              "       [1.06110001e+02, 2.53769400e+08],\n",
              "       [1.07160004e+02, 2.10842100e+08],\n",
              "       [1.07959999e+02, 1.44999900e+08],\n",
              "       [1.08029999e+02, 1.31283600e+08],\n",
              "       [1.09660004e+02, 2.13025900e+08],\n",
              "       [1.09650002e+02, 1.84426800e+08],\n",
              "       [1.09680000e+02, 2.32337900e+08],\n",
              "       [1.06660004e+02, 2.82693400e+08],\n",
              "       [1.07290001e+02, 1.86709000e+08]])"
            ]
          },
          "metadata": {
            "tags": []
          },
          "execution_count": 615
        }
      ]
    },
    {
      "cell_type": "code",
      "metadata": {
        "id": "xNDNpSVMtY4S"
      },
      "source": [
        "scaler = StandardScaler()\n",
        "scaler.fit(X_train)\n",
        "X_train_scaled = scaler.transform(X_train)\n",
        "X_test_scaled = scaler.transform(X_test)"
      ],
      "execution_count": null,
      "outputs": []
    },
    {
      "cell_type": "code",
      "metadata": {
        "id": "z_Wt-v5SSXNk"
      },
      "source": [
        "X_train_scaled = X_train_scaled.reshape(X_train_shape)\n",
        "X_test_scaled = X_test_scaled.reshape(X_test_shape)\n",
        "y_train = y_train.reshape((len(y_train), 1))\n",
        "y_test = y_test.reshape((len(y_test), 1))"
      ],
      "execution_count": null,
      "outputs": []
    },
    {
      "cell_type": "code",
      "metadata": {
        "id": "pv8-f08oxMdV"
      },
      "source": [
        "def root_mean_squared_error(y_true, y_pred):\n",
        "        return backend.sqrt(backend.mean(backend.square(y_pred - y_true))) "
      ],
      "execution_count": null,
      "outputs": []
    },
    {
      "cell_type": "code",
      "metadata": {
        "colab": {
          "base_uri": "https://localhost:8080/"
        },
        "id": "gtDOIxGNO1ct",
        "outputId": "2e6cac86-3d9f-459b-cd51-b7463bed413c"
      },
      "source": [
        "model = tf.keras.Sequential()\n",
        "model.add(tf.keras.layers.LSTM(40, activation='relu', return_sequences=True, input_shape=(window, 2), name='lstm1'))\n",
        "model.add(tf.keras.layers.LSTM(20, activation='relu', name='lstm2'))\n",
        "model.add(tf.keras.layers.Dense(1, activation=tf.nn.relu, name='dense1'))\n",
        "\n",
        "adam = tf.keras.optimizers.Adam()\n",
        "\n",
        "model.compile(optimizer=adam, loss=\"mean_squared_error\")\n",
        "\n",
        "history = model.fit(X_train_scaled, y_train, epochs=50, validation_split=0.125, shuffle=False)\n",
        "model.summary()"
      ],
      "execution_count": null,
      "outputs": [
        {
          "output_type": "stream",
          "text": [
            "Epoch 1/50\n",
            "51/51 [==============================] - 5s 28ms/step - loss: 20636.6849 - val_loss: 1099678.5000\n",
            "Epoch 2/50\n",
            "51/51 [==============================] - 1s 20ms/step - loss: 19048.6168 - val_loss: 6821.8252\n",
            "Epoch 3/50\n",
            "51/51 [==============================] - 1s 20ms/step - loss: 32823.1162 - val_loss: 971.6658\n",
            "Epoch 4/50\n",
            "51/51 [==============================] - 1s 18ms/step - loss: 553.2931 - val_loss: 3768.9761\n",
            "Epoch 5/50\n",
            "51/51 [==============================] - 1s 17ms/step - loss: 1448.9818 - val_loss: 1192.9791\n",
            "Epoch 6/50\n",
            "51/51 [==============================] - 1s 18ms/step - loss: 1330.4065 - val_loss: 721.0605\n",
            "Epoch 7/50\n",
            "51/51 [==============================] - 1s 21ms/step - loss: 1626.8745 - val_loss: 563.3804\n",
            "Epoch 8/50\n",
            "51/51 [==============================] - 1s 21ms/step - loss: 1933.0964 - val_loss: 670.7515\n",
            "Epoch 9/50\n",
            "51/51 [==============================] - 1s 20ms/step - loss: 2314.9885 - val_loss: 948.5735\n",
            "Epoch 10/50\n",
            "51/51 [==============================] - 1s 21ms/step - loss: 2494.1595 - val_loss: 949.2534\n",
            "Epoch 11/50\n",
            "51/51 [==============================] - 1s 18ms/step - loss: 2350.8941 - val_loss: 785.4743\n",
            "Epoch 12/50\n",
            "51/51 [==============================] - 1s 18ms/step - loss: 2105.5286 - val_loss: 574.4700\n",
            "Epoch 13/50\n",
            "51/51 [==============================] - 1s 21ms/step - loss: 1879.1094 - val_loss: 351.3770\n",
            "Epoch 14/50\n",
            "51/51 [==============================] - 1s 19ms/step - loss: 1686.8672 - val_loss: 66.7024\n",
            "Epoch 15/50\n",
            "51/51 [==============================] - 1s 16ms/step - loss: 1249.8315 - val_loss: 139.3676\n",
            "Epoch 16/50\n",
            "51/51 [==============================] - 1s 18ms/step - loss: 1113.8906 - val_loss: 143.9631\n",
            "Epoch 17/50\n",
            "51/51 [==============================] - 1s 20ms/step - loss: 711.0252 - val_loss: 357.5403\n",
            "Epoch 18/50\n",
            "51/51 [==============================] - 1s 21ms/step - loss: 893.3509 - val_loss: 845.0756\n",
            "Epoch 19/50\n",
            "51/51 [==============================] - 1s 20ms/step - loss: 927.7733 - val_loss: 1167.3987\n",
            "Epoch 20/50\n",
            "51/51 [==============================] - 1s 20ms/step - loss: 912.4477 - val_loss: 1340.9161\n",
            "Epoch 21/50\n",
            "51/51 [==============================] - 1s 17ms/step - loss: 868.6087 - val_loss: 1518.9500\n",
            "Epoch 22/50\n",
            "51/51 [==============================] - 1s 16ms/step - loss: 811.8261 - val_loss: 1661.3710\n",
            "Epoch 23/50\n",
            "51/51 [==============================] - 1s 18ms/step - loss: 743.1024 - val_loss: 1730.1682\n",
            "Epoch 24/50\n",
            "51/51 [==============================] - 1s 17ms/step - loss: 664.8654 - val_loss: 1721.9087\n",
            "Epoch 25/50\n",
            "51/51 [==============================] - 1s 17ms/step - loss: 590.7781 - val_loss: 1666.0757\n",
            "Epoch 26/50\n",
            "51/51 [==============================] - 1s 17ms/step - loss: 499.8599 - val_loss: 1561.2853\n",
            "Epoch 27/50\n",
            "51/51 [==============================] - 1s 17ms/step - loss: 451.1950 - val_loss: 1421.6826\n",
            "Epoch 28/50\n",
            "51/51 [==============================] - 1s 21ms/step - loss: 355.0624 - val_loss: 1332.0503\n",
            "Epoch 29/50\n",
            "51/51 [==============================] - 1s 21ms/step - loss: 311.1730 - val_loss: 1144.3452\n",
            "Epoch 30/50\n",
            "51/51 [==============================] - 1s 21ms/step - loss: 221.5521 - val_loss: 890.8085\n",
            "Epoch 31/50\n",
            "51/51 [==============================] - 1s 22ms/step - loss: 178.0324 - val_loss: 743.4626\n",
            "Epoch 32/50\n",
            "51/51 [==============================] - 1s 20ms/step - loss: 145.0328 - val_loss: 578.5031\n",
            "Epoch 33/50\n",
            "51/51 [==============================] - 1s 17ms/step - loss: 114.2213 - val_loss: 453.3838\n",
            "Epoch 34/50\n",
            "51/51 [==============================] - 1s 17ms/step - loss: 92.2358 - val_loss: 353.2128\n",
            "Epoch 35/50\n",
            "51/51 [==============================] - 1s 17ms/step - loss: 76.4598 - val_loss: 279.2271\n",
            "Epoch 36/50\n",
            "51/51 [==============================] - 1s 16ms/step - loss: 66.1295 - val_loss: 219.3096\n",
            "Epoch 37/50\n",
            "51/51 [==============================] - 1s 17ms/step - loss: 59.9517 - val_loss: 175.4280\n",
            "Epoch 38/50\n",
            "51/51 [==============================] - 1s 17ms/step - loss: 55.9361 - val_loss: 138.9991\n",
            "Epoch 39/50\n",
            "51/51 [==============================] - 1s 17ms/step - loss: 53.7953 - val_loss: 107.3181\n",
            "Epoch 40/50\n",
            "51/51 [==============================] - 1s 17ms/step - loss: 52.2701 - val_loss: 83.6617\n",
            "Epoch 41/50\n",
            "51/51 [==============================] - 1s 17ms/step - loss: 51.1866 - val_loss: 64.2709\n",
            "Epoch 42/50\n",
            "51/51 [==============================] - 1s 17ms/step - loss: 50.6415 - val_loss: 49.2468\n",
            "Epoch 43/50\n",
            "51/51 [==============================] - 1s 17ms/step - loss: 50.0810 - val_loss: 37.8049\n",
            "Epoch 44/50\n",
            "51/51 [==============================] - 1s 17ms/step - loss: 49.9004 - val_loss: 28.4579\n",
            "Epoch 45/50\n",
            "51/51 [==============================] - 1s 17ms/step - loss: 49.8251 - val_loss: 21.2681\n",
            "Epoch 46/50\n",
            "51/51 [==============================] - 1s 16ms/step - loss: 49.5879 - val_loss: 16.0188\n",
            "Epoch 47/50\n",
            "51/51 [==============================] - 1s 16ms/step - loss: 49.4147 - val_loss: 12.8596\n",
            "Epoch 48/50\n",
            "51/51 [==============================] - 1s 16ms/step - loss: 49.1548 - val_loss: 10.7644\n",
            "Epoch 49/50\n",
            "51/51 [==============================] - 1s 17ms/step - loss: 49.0963 - val_loss: 9.8547\n",
            "Epoch 50/50\n",
            "51/51 [==============================] - 1s 18ms/step - loss: 49.0068 - val_loss: 10.0717\n",
            "Model: \"sequential_101\"\n",
            "_________________________________________________________________\n",
            "Layer (type)                 Output Shape              Param #   \n",
            "=================================================================\n",
            "lstm1 (LSTM)                 (None, 20, 40)            6880      \n",
            "_________________________________________________________________\n",
            "lstm2 (LSTM)                 (None, 20)                4880      \n",
            "_________________________________________________________________\n",
            "dense1 (Dense)               (None, 1)                 21        \n",
            "=================================================================\n",
            "Total params: 11,781\n",
            "Trainable params: 11,781\n",
            "Non-trainable params: 0\n",
            "_________________________________________________________________\n"
          ],
          "name": "stdout"
        }
      ]
    },
    {
      "cell_type": "code",
      "metadata": {
        "colab": {
          "base_uri": "https://localhost:8080/",
          "height": 296
        },
        "id": "gzOSjRRhIRfZ",
        "outputId": "b163f528-5906-4eb9-ef71-3f977be2d0e0"
      },
      "source": [
        "loss = history.history['loss']\n",
        "val_loss = history.history['val_loss']\n",
        "plt.plot(loss[3:], label='loss')\n",
        "plt.plot(val_loss[3:], label='validation loss')\n",
        "plt.xlabel('epoch')\n",
        "plt.legend()\n",
        "plt.show"
      ],
      "execution_count": null,
      "outputs": [
        {
          "output_type": "execute_result",
          "data": {
            "text/plain": [
              "<function matplotlib.pyplot.show>"
            ]
          },
          "metadata": {
            "tags": []
          },
          "execution_count": 626
        },
        {
          "output_type": "display_data",
          "data": {
            "image/png": "[encoded data removed]",
            "text/plain": [
              "<Figure size 432x288 with 1 Axes>"
            ]
          },
          "metadata": {
            "tags": [],
            "needs_background": "light"
          }
        }
      ]
    },
    {
      "cell_type": "code",
      "metadata": {
        "colab": {
          "base_uri": "https://localhost:8080/"
        },
        "id": "aFwpeFgcbriO",
        "outputId": "17acecc6-8fc2-4ccd-8eda-6236fa64fd59"
      },
      "source": [
        "model.evaluate(X_test_scaled, y_test, return_dict=True)"
      ],
      "execution_count": null,
      "outputs": [
        {
          "output_type": "stream",
          "text": [
            "25/25 [==============================] - 0s 7ms/step - loss: 293.8230\n"
          ],
          "name": "stdout"
        },
        {
          "output_type": "execute_result",
          "data": {
            "text/plain": [
              "{'loss': 293.8229675292969}"
            ]
          },
          "metadata": {
            "tags": []
          },
          "execution_count": 621
        }
      ]
    },
    {
      "cell_type": "code",
      "metadata": {
        "colab": {
          "base_uri": "https://localhost:8080/",
          "height": 302
        },
        "id": "RVkrpItTd92f",
        "outputId": "9b2a1624-1139-4917-845c-3704f8ce71a7"
      },
      "source": [
        "y_pred = model.predict(X_test_scaled)\n",
        "print(y_pred.shape)\n",
        "l = len(y_pred)\n",
        "plt.plot(y_test, label='test')\n",
        "plt.plot(y_pred, label='prediction')\n",
        "plt.legend()"
      ],
      "execution_count": null,
      "outputs": [
        {
          "output_type": "stream",
          "text": [
            "(786, 1)\n"
          ],
          "name": "stdout"
        },
        {
          "output_type": "execute_result",
          "data": {
            "text/plain": [
              "<matplotlib.legend.Legend at 0x7f427e49bb90>"
            ]
          },
          "metadata": {
            "tags": []
          },
          "execution_count": 622
        },
        {
          "output_type": "display_data",
          "data": {
            "image/png": "[encoded data removed]",
            "text/plain": [
              "<Figure size 432x288 with 1 Axes>"
            ]
          },
          "metadata": {
            "tags": [],
            "needs_background": "light"
          }
        }
      ]
    },
    {
      "cell_type": "code",
      "metadata": {
        "colab": {
          "base_uri": "https://localhost:8080/",
          "height": 282
        },
        "id": "b_pWV1wl_7vm",
        "outputId": "ec5296ff-3c7d-46f2-81a1-9adf5c1141db"
      },
      "source": [
        "y_pred = model.predict(X_train_scaled)\n",
        "l = len(y_pred)\n",
        "plt.plot(y_train[0:250], label='training')\n",
        "plt.plot(y_pred[0:250], label='prediction')\n",
        "plt.legend()"
      ],
      "execution_count": null,
      "outputs": [
        {
          "output_type": "execute_result",
          "data": {
            "text/plain": [
              "<matplotlib.legend.Legend at 0x7f4281351290>"
            ]
          },
          "metadata": {
            "tags": []
          },
          "execution_count": 623
        },
        {
          "output_type": "display_data",
          "data": {
            "image/png": "[encoded data removed]",
            "text/plain": [
              "<Figure size 432x288 with 1 Axes>"
            ]
          },
          "metadata": {
            "tags": [],
            "needs_background": "light"
          }
        }
      ]
    }
  ]
}