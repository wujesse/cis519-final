{
  "nbformat": 4,
  "nbformat_minor": 0,
  "metadata": {
    "colab": {
      "name": "single-feature.ipynb",
      "provenance": [],
      "toc_visible": true
    },
    "kernelspec": {
      "name": "python3",
      "display_name": "Python 3"
    },
    "language_info": {
      "name": "python"
    }
  },
  "cells": [
    {
      "cell_type": "code",
      "metadata": {
        "id": "azO1sf6csdmJ"
      },
      "source": [
        "import numpy as np\n",
        "import pandas as pd\n",
        "import torch\n",
        "import torch.nn as nn\n",
        "import torch.optim as optim\n",
        "import tensorflow as tf\n",
        "import matplotlib.pyplot as plt\n",
        "from tensorflow import keras\n",
        "from tensorflow.keras import layers\n",
        "from tensorflow.keras import backend\n",
        "from sklearn.model_selection import train_test_split\n",
        "from sklearn.model_selection import TimeSeriesSplit\n",
        "from sklearn.neural_network import MLPRegressor\n",
        "from sklearn.metrics import mean_squared_error\n",
        "from sklearn.preprocessing import MinMaxScaler\n",
        "from sklearn.preprocessing import StandardScaler"
      ],
      "execution_count": 1,
      "outputs": []
    },
    {
      "cell_type": "markdown",
      "metadata": {
        "id": "03DGstXI2Bnu"
      },
      "source": [
        "# Milestone stuff"
      ]
    },
    {
      "cell_type": "code",
      "metadata": {
        "id": "3qTf_C1ZwG5t"
      },
      "source": [
        "filepath = 'SPY.csv'\n",
        "raw_df = pd.read_csv(filepath)"
      ],
      "execution_count": 3,
      "outputs": []
    },
    {
      "cell_type": "markdown",
      "metadata": {
        "id": "OAcpoUgo2F0N"
      },
      "source": [
        "# Final messing around"
      ]
    },
    {
      "cell_type": "code",
      "metadata": {
        "colab": {
          "base_uri": "https://localhost:8080/",
          "height": 204
        },
        "id": "m1pSzCRy2pk4",
        "outputId": "5d5f85d4-7cef-43fc-be45-6dce13a2961a"
      },
      "source": [
        "raw_df.head()"
      ],
      "execution_count": 196,
      "outputs": [
        {
          "output_type": "execute_result",
          "data": {
            "text/html": [
              "<div>\n",
              "<style scoped>\n",
              "    .dataframe tbody tr th:only-of-type {\n",
              "        vertical-align: middle;\n",
              "    }\n",
              "\n",
              "    .dataframe tbody tr th {\n",
              "        vertical-align: top;\n",
              "    }\n",
              "\n",
              "    .dataframe thead th {\n",
              "        text-align: right;\n",
              "    }\n",
              "</style>\n",
              "<table border=\"1\" class=\"dataframe\">\n",
              "  <thead>\n",
              "    <tr style=\"text-align: right;\">\n",
              "      <th></th>\n",
              "      <th>Date</th>\n",
              "      <th>Open</th>\n",
              "      <th>High</th>\n",
              "      <th>Low</th>\n",
              "      <th>Close</th>\n",
              "      <th>Adj Close</th>\n",
              "      <th>Volume</th>\n",
              "    </tr>\n",
              "  </thead>\n",
              "  <tbody>\n",
              "    <tr>\n",
              "      <th>0</th>\n",
              "      <td>2000-01-03</td>\n",
              "      <td>148.25000</td>\n",
              "      <td>148.25000</td>\n",
              "      <td>143.875000</td>\n",
              "      <td>145.4375</td>\n",
              "      <td>97.825676</td>\n",
              "      <td>8164300</td>\n",
              "    </tr>\n",
              "    <tr>\n",
              "      <th>1</th>\n",
              "      <td>2000-01-04</td>\n",
              "      <td>143.53125</td>\n",
              "      <td>144.06250</td>\n",
              "      <td>139.640625</td>\n",
              "      <td>139.7500</td>\n",
              "      <td>94.000107</td>\n",
              "      <td>8089800</td>\n",
              "    </tr>\n",
              "    <tr>\n",
              "      <th>2</th>\n",
              "      <td>2000-01-05</td>\n",
              "      <td>139.93750</td>\n",
              "      <td>141.53125</td>\n",
              "      <td>137.250000</td>\n",
              "      <td>140.0000</td>\n",
              "      <td>94.168259</td>\n",
              "      <td>12177900</td>\n",
              "    </tr>\n",
              "    <tr>\n",
              "      <th>3</th>\n",
              "      <td>2000-01-06</td>\n",
              "      <td>139.62500</td>\n",
              "      <td>141.50000</td>\n",
              "      <td>137.750000</td>\n",
              "      <td>137.7500</td>\n",
              "      <td>92.654861</td>\n",
              "      <td>6227200</td>\n",
              "    </tr>\n",
              "    <tr>\n",
              "      <th>4</th>\n",
              "      <td>2000-01-07</td>\n",
              "      <td>140.31250</td>\n",
              "      <td>145.75000</td>\n",
              "      <td>140.062500</td>\n",
              "      <td>145.7500</td>\n",
              "      <td>98.035896</td>\n",
              "      <td>8066500</td>\n",
              "    </tr>\n",
              "  </tbody>\n",
              "</table>\n",
              "</div>"
            ],
            "text/plain": [
              "         Date       Open       High         Low     Close  Adj Close    Volume\n",
              "0  2000-01-03  148.25000  148.25000  143.875000  145.4375  97.825676   8164300\n",
              "1  2000-01-04  143.53125  144.06250  139.640625  139.7500  94.000107   8089800\n",
              "2  2000-01-05  139.93750  141.53125  137.250000  140.0000  94.168259  12177900\n",
              "3  2000-01-06  139.62500  141.50000  137.750000  137.7500  92.654861   6227200\n",
              "4  2000-01-07  140.31250  145.75000  140.062500  145.7500  98.035896   8066500"
            ]
          },
          "metadata": {
            "tags": []
          },
          "execution_count": 196
        }
      ]
    },
    {
      "cell_type": "code",
      "metadata": {
        "colab": {
          "base_uri": "https://localhost:8080/",
          "height": 204
        },
        "id": "84NHU7HQOui0",
        "outputId": "4800313b-1118-4794-da73-3d14c2ac3bdf"
      },
      "source": [
        "# raw_df.truncate(before=len(raw_df)/2).head()"
      ],
      "execution_count": 197,
      "outputs": [
        {
          "output_type": "execute_result",
          "data": {
            "text/html": [
              "<div>\n",
              "<style scoped>\n",
              "    .dataframe tbody tr th:only-of-type {\n",
              "        vertical-align: middle;\n",
              "    }\n",
              "\n",
              "    .dataframe tbody tr th {\n",
              "        vertical-align: top;\n",
              "    }\n",
              "\n",
              "    .dataframe thead th {\n",
              "        text-align: right;\n",
              "    }\n",
              "</style>\n",
              "<table border=\"1\" class=\"dataframe\">\n",
              "  <thead>\n",
              "    <tr style=\"text-align: right;\">\n",
              "      <th></th>\n",
              "      <th>Date</th>\n",
              "      <th>Open</th>\n",
              "      <th>High</th>\n",
              "      <th>Low</th>\n",
              "      <th>Close</th>\n",
              "      <th>Adj Close</th>\n",
              "      <th>Volume</th>\n",
              "    </tr>\n",
              "  </thead>\n",
              "  <tbody>\n",
              "    <tr>\n",
              "      <th>2641</th>\n",
              "      <td>2010-07-06</td>\n",
              "      <td>103.639999</td>\n",
              "      <td>104.370003</td>\n",
              "      <td>101.879997</td>\n",
              "      <td>102.870003</td>\n",
              "      <td>83.143509</td>\n",
              "      <td>256935300</td>\n",
              "    </tr>\n",
              "    <tr>\n",
              "      <th>2642</th>\n",
              "      <td>2010-07-07</td>\n",
              "      <td>103.129997</td>\n",
              "      <td>106.239998</td>\n",
              "      <td>103.019997</td>\n",
              "      <td>106.110001</td>\n",
              "      <td>85.762192</td>\n",
              "      <td>253769400</td>\n",
              "    </tr>\n",
              "    <tr>\n",
              "      <th>2643</th>\n",
              "      <td>2010-07-08</td>\n",
              "      <td>107.000000</td>\n",
              "      <td>107.279999</td>\n",
              "      <td>105.910004</td>\n",
              "      <td>107.160004</td>\n",
              "      <td>86.610847</td>\n",
              "      <td>210842100</td>\n",
              "    </tr>\n",
              "    <tr>\n",
              "      <th>2644</th>\n",
              "      <td>2010-07-09</td>\n",
              "      <td>107.129997</td>\n",
              "      <td>107.970001</td>\n",
              "      <td>106.930000</td>\n",
              "      <td>107.959999</td>\n",
              "      <td>87.257454</td>\n",
              "      <td>144999900</td>\n",
              "    </tr>\n",
              "    <tr>\n",
              "      <th>2645</th>\n",
              "      <td>2010-07-12</td>\n",
              "      <td>107.599998</td>\n",
              "      <td>108.239998</td>\n",
              "      <td>107.150002</td>\n",
              "      <td>108.029999</td>\n",
              "      <td>87.314003</td>\n",
              "      <td>131283600</td>\n",
              "    </tr>\n",
              "  </tbody>\n",
              "</table>\n",
              "</div>"
            ],
            "text/plain": [
              "            Date        Open        High  ...       Close  Adj Close     Volume\n",
              "2641  2010-07-06  103.639999  104.370003  ...  102.870003  83.143509  256935300\n",
              "2642  2010-07-07  103.129997  106.239998  ...  106.110001  85.762192  253769400\n",
              "2643  2010-07-08  107.000000  107.279999  ...  107.160004  86.610847  210842100\n",
              "2644  2010-07-09  107.129997  107.970001  ...  107.959999  87.257454  144999900\n",
              "2645  2010-07-12  107.599998  108.239998  ...  108.029999  87.314003  131283600\n",
              "\n",
              "[5 rows x 7 columns]"
            ]
          },
          "metadata": {
            "tags": []
          },
          "execution_count": 197
        }
      ]
    },
    {
      "cell_type": "code",
      "metadata": {
        "id": "kegHf1wc243v"
      },
      "source": [
        "# change timestamp to num days from beginning of data\n",
        "series_df = raw_df.copy()\n",
        "series_df['Date'] = pd.to_datetime(series_df['Date'])\n",
        "series_df['Date'] = series_df['Date'].astype('int64')\n",
        "series_df['Date'] = (series_df['Date'] - series_df.iloc[0, 0]) / 86400000000000\n",
        "series_df['Date'] = series_df['Date'].astype('int64')\n",
        "series_df = series_df.truncate(before=len(series_df)/2)"
      ],
      "execution_count": 5,
      "outputs": []
    },
    {
      "cell_type": "code",
      "metadata": {
        "colab": {
          "base_uri": "https://localhost:8080/",
          "height": 258
        },
        "id": "T8ym2TcuHG3R",
        "outputId": "35e0f7cf-fd2b-420f-b627-c3712950ba83"
      },
      "source": [
        "corr_df = series_df - series_df.mean()\n",
        "corr_df = corr_df / corr_df.std()\n",
        "plt.matshow(corr_df.corr())\n",
        "plt.colorbar()\n",
        "plt.show()"
      ],
      "execution_count": 6,
      "outputs": [
        {
          "output_type": "display_data",
          "data": {
            "image/png": "[encoded data removed]",
            "text/plain": [
              "<Figure size 288x288 with 2 Axes>"
            ]
          },
          "metadata": {
            "tags": [],
            "needs_background": "light"
          }
        }
      ]
    },
    {
      "cell_type": "code",
      "metadata": {
        "colab": {
          "base_uri": "https://localhost:8080/",
          "height": 204
        },
        "id": "Ve3BFEgjPNRy",
        "outputId": "a458a9e6-ce1f-49b3-e62c-e14d32dfe011"
      },
      "source": [
        "series_df = series_df.drop(columns=['Date', 'Open', 'High', 'Low', 'Adj Close'])\n",
        "series_df.head()"
      ],
      "execution_count": 7,
      "outputs": [
        {
          "output_type": "execute_result",
          "data": {
            "text/html": [
              "<div>\n",
              "<style scoped>\n",
              "    .dataframe tbody tr th:only-of-type {\n",
              "        vertical-align: middle;\n",
              "    }\n",
              "\n",
              "    .dataframe tbody tr th {\n",
              "        vertical-align: top;\n",
              "    }\n",
              "\n",
              "    .dataframe thead th {\n",
              "        text-align: right;\n",
              "    }\n",
              "</style>\n",
              "<table border=\"1\" class=\"dataframe\">\n",
              "  <thead>\n",
              "    <tr style=\"text-align: right;\">\n",
              "      <th></th>\n",
              "      <th>Close</th>\n",
              "      <th>Volume</th>\n",
              "    </tr>\n",
              "  </thead>\n",
              "  <tbody>\n",
              "    <tr>\n",
              "      <th>2641</th>\n",
              "      <td>102.870003</td>\n",
              "      <td>256935300</td>\n",
              "    </tr>\n",
              "    <tr>\n",
              "      <th>2642</th>\n",
              "      <td>106.110001</td>\n",
              "      <td>253769400</td>\n",
              "    </tr>\n",
              "    <tr>\n",
              "      <th>2643</th>\n",
              "      <td>107.160004</td>\n",
              "      <td>210842100</td>\n",
              "    </tr>\n",
              "    <tr>\n",
              "      <th>2644</th>\n",
              "      <td>107.959999</td>\n",
              "      <td>144999900</td>\n",
              "    </tr>\n",
              "    <tr>\n",
              "      <th>2645</th>\n",
              "      <td>108.029999</td>\n",
              "      <td>131283600</td>\n",
              "    </tr>\n",
              "  </tbody>\n",
              "</table>\n",
              "</div>"
            ],
            "text/plain": [
              "           Close     Volume\n",
              "2641  102.870003  256935300\n",
              "2642  106.110001  253769400\n",
              "2643  107.160004  210842100\n",
              "2644  107.959999  144999900\n",
              "2645  108.029999  131283600"
            ]
          },
          "metadata": {
            "tags": []
          },
          "execution_count": 7
        }
      ]
    },
    {
      "cell_type": "code",
      "metadata": {
        "colab": {
          "base_uri": "https://localhost:8080/",
          "height": 282
        },
        "id": "AplRbf_g4a8b",
        "outputId": "3f5cceb8-8032-434d-9b63-903d10c16f4f"
      },
      "source": [
        "window = 10\n",
        "temp = [(np.array(series_df.iloc[i:i+window, 0]), np.array(series_df.iloc[i+window+5, 0])) \n",
        "          for i in range(len(series_df) // window * window - window - 5)]\n",
        "X, y = zip(*temp)\n",
        "X, y = np.array(X), np.array(y)\n",
        "\n",
        "plt.plot(y)\n",
        "# X_train, X_test, y_train, y_test = train_test_split(X, y)"
      ],
      "execution_count": 178,
      "outputs": [
        {
          "output_type": "execute_result",
          "data": {
            "text/plain": [
              "[<matplotlib.lines.Line2D at 0x7f7edcc68390>]"
            ]
          },
          "metadata": {
            "tags": []
          },
          "execution_count": 178
        },
        {
          "output_type": "display_data",
          "data": {
            "image/png": "[encoded data removed]",
            "text/plain": [
              "<Figure size 432x288 with 1 Axes>"
            ]
          },
          "metadata": {
            "tags": [],
            "needs_background": "light"
          }
        }
      ]
    },
    {
      "cell_type": "code",
      "metadata": {
        "id": "TSxu1RNz4P8q"
      },
      "source": [
        "train_size = int(0.8 * len(X))\n",
        "X_train = X[:train_size]\n",
        "y_train = y[:train_size]\n",
        "X_test = X[train_size:]\n",
        "y_test = y[train_size:]"
      ],
      "execution_count": 211,
      "outputs": []
    },
    {
      "cell_type": "code",
      "metadata": {
        "id": "xNDNpSVMtY4S"
      },
      "source": [
        "scaler = StandardScaler()\n",
        "scaler.fit(X_train)\n",
        "# X_train_scaled = scaler.transform(X_train)\n",
        "# X_test_scaled = scaler.transform(X_test)"
      ],
      "execution_count": 212,
      "outputs": []
    },
    {
      "cell_type": "code",
      "metadata": {
        "id": "sX5RM_A6X4Wb"
      },
      "source": [
        "X_train = X_train.reshape(-1, 1)\n",
        "X_test = X_test.reshape(-1, 1)\n",
        "scaler.fit(X_train)\n",
        "X_train_scaled = scaler.transform(X_train)\n",
        "X_train_scaled = X_train_scaled.reshape(-1, 10)\n",
        "X_test_scaled = scaler.transform(X_test)\n",
        "X_test_scaled = X_test_scaled.reshape(-1, 10)"
      ],
      "execution_count": 213,
      "outputs": []
    },
    {
      "cell_type": "code",
      "metadata": {
        "colab": {
          "base_uri": "https://localhost:8080/"
        },
        "id": "KAXAFQyJcuak",
        "outputId": "5b14f20b-4119-40f4-eddf-beb6c83509a0"
      },
      "source": [
        "X_test_scaled[:10]"
      ],
      "execution_count": 218,
      "outputs": [
        {
          "output_type": "execute_result",
          "data": {
            "text/plain": [
              "array([[1.69986166, 1.73471589, 1.85338312, 1.84310786, 1.78790477,\n",
              "        1.68334081, 1.67306556, 1.63559207, 1.69240668, 1.70671162],\n",
              "       [1.73471589, 1.85338312, 1.84310786, 1.78790477, 1.68334081,\n",
              "        1.67306556, 1.63559207, 1.69240668, 1.70671162, 1.61343005],\n",
              "       [1.85338312, 1.84310786, 1.78790477, 1.68334081, 1.67306556,\n",
              "        1.63559207, 1.69240668, 1.70671162, 1.61343005, 1.51309684],\n",
              "       [1.84310786, 1.78790477, 1.68334081, 1.67306556, 1.63559207,\n",
              "        1.69240668, 1.70671162, 1.61343005, 1.51309684, 1.53122918],\n",
              "       [1.78790477, 1.68334081, 1.67306556, 1.63559207, 1.69240668,\n",
              "        1.70671162, 1.61343005, 1.51309684, 1.53122918, 1.49556888],\n",
              "       [1.68334081, 1.67306556, 1.63559207, 1.69240668, 1.70671162,\n",
              "        1.61343005, 1.51309684, 1.53122918, 1.49556888, 1.58119443],\n",
              "       [1.67306556, 1.63559207, 1.69240668, 1.70671162, 1.61343005,\n",
              "        1.51309684, 1.53122918, 1.49556888, 1.58119443, 1.59932677],\n",
              "       [1.63559207, 1.69240668, 1.70671162, 1.61343005, 1.51309684,\n",
              "        1.53122918, 1.49556888, 1.58119443, 1.59932677, 1.72383625],\n",
              "       [1.69240668, 1.70671162, 1.61343005, 1.51309684, 1.53122918,\n",
              "        1.49556888, 1.58119443, 1.59932677, 1.72383625, 1.71174842],\n",
              "       [1.70671162, 1.61343005, 1.51309684, 1.53122918, 1.49556888,\n",
              "        1.58119443, 1.59932677, 1.72383625, 1.71174842, 1.74539388]])"
            ]
          },
          "metadata": {
            "tags": []
          },
          "execution_count": 218
        }
      ]
    },
    {
      "cell_type": "code",
      "metadata": {
        "id": "z_Wt-v5SSXNk"
      },
      "source": [
        "X_train_scaled = X_train_scaled.reshape(X_train_scaled.shape + (1,))\n",
        "X_test_scaled = X_test_scaled.reshape(X_test_scaled.shape + (1,))\n",
        "y_train = y_train.reshape((len(y_train), 1))\n",
        "y_test = y_test.reshape((len(y_test), 1))"
      ],
      "execution_count": 219,
      "outputs": []
    },
    {
      "cell_type": "code",
      "metadata": {
        "id": "pv8-f08oxMdV"
      },
      "source": [
        "def root_mean_squared_error(y_true, y_pred):\n",
        "        return backend.sqrt(backend.mean(backend.square(y_pred - y_true))) "
      ],
      "execution_count": 183,
      "outputs": []
    },
    {
      "cell_type": "code",
      "metadata": {
        "colab": {
          "base_uri": "https://localhost:8080/"
        },
        "id": "gtDOIxGNO1ct",
        "outputId": "3bb941dc-2595-480f-c5bc-1e10a7786561"
      },
      "source": [
        "model = tf.keras.Sequential()\n",
        "model.add(tf.keras.layers.LSTM(20, activation='relu', dropout=0.2, return_sequences=True, input_shape=(window, 1), name='lstm1'))\n",
        "model.add(tf.keras.layers.LSTM(20, activation='relu', dropout=0.2, name='lstm2'))\n",
        "model.add(tf.keras.layers.Dense(1, activation=tf.nn.relu, name='dense1'))\n",
        "\n",
        "adam = tf.keras.optimizers.Adam()\n",
        "\n",
        "model.compile(optimizer=adam, loss=\"mean_squared_error\")\n",
        "\n",
        "history = model.fit(X_train_scaled, y_train, epochs=30, validation_split=0.125, shuffle=False)\n",
        "model.summary()"
      ],
      "execution_count": 224,
      "outputs": [
        {
          "output_type": "stream",
          "text": [
            "Epoch 1/30\n",
            "58/58 [==============================] - 3s 17ms/step - loss: 22100.5713 - val_loss: 68128.9141\n",
            "Epoch 2/30\n",
            "58/58 [==============================] - 1s 10ms/step - loss: 8845.4705 - val_loss: 16025.8535\n",
            "Epoch 3/30\n",
            "58/58 [==============================] - 1s 11ms/step - loss: 192540.0935 - val_loss: 53252.9883\n",
            "Epoch 4/30\n",
            "58/58 [==============================] - 1s 11ms/step - loss: 12314.3150 - val_loss: 32310.0449\n",
            "Epoch 5/30\n",
            "58/58 [==============================] - 1s 11ms/step - loss: 8374.3769 - val_loss: 47620.9062\n",
            "Epoch 6/30\n",
            "58/58 [==============================] - 1s 11ms/step - loss: 12297.7367 - val_loss: 23150.5352\n",
            "Epoch 7/30\n",
            "58/58 [==============================] - 1s 11ms/step - loss: 8670.1236 - val_loss: 40197.1875\n",
            "Epoch 8/30\n",
            "58/58 [==============================] - 1s 12ms/step - loss: 8618.7932 - val_loss: 25745.0957\n",
            "Epoch 9/30\n",
            "58/58 [==============================] - 1s 11ms/step - loss: 8043.7035 - val_loss: 27917.3066\n",
            "Epoch 10/30\n",
            "58/58 [==============================] - 1s 11ms/step - loss: 7369.6292 - val_loss: 22248.8652\n",
            "Epoch 11/30\n",
            "58/58 [==============================] - 1s 11ms/step - loss: 7303.6983 - val_loss: 20875.6562\n",
            "Epoch 12/30\n",
            "58/58 [==============================] - 1s 11ms/step - loss: 6660.7028 - val_loss: 18580.2871\n",
            "Epoch 13/30\n",
            "58/58 [==============================] - 1s 11ms/step - loss: 6544.0031 - val_loss: 16312.4541\n",
            "Epoch 14/30\n",
            "58/58 [==============================] - 1s 11ms/step - loss: 6088.0185 - val_loss: 15432.4170\n",
            "Epoch 15/30\n",
            "58/58 [==============================] - 1s 10ms/step - loss: 6004.6892 - val_loss: 15161.7002\n",
            "Epoch 16/30\n",
            "58/58 [==============================] - 1s 11ms/step - loss: 5443.7624 - val_loss: 15245.5166\n",
            "Epoch 17/30\n",
            "58/58 [==============================] - 1s 11ms/step - loss: 5256.2403 - val_loss: 15402.1934\n",
            "Epoch 18/30\n",
            "58/58 [==============================] - 1s 11ms/step - loss: 5073.2134 - val_loss: 15261.7129\n",
            "Epoch 19/30\n",
            "58/58 [==============================] - 1s 10ms/step - loss: 5047.7745 - val_loss: 15397.6904\n",
            "Epoch 20/30\n",
            "58/58 [==============================] - 1s 11ms/step - loss: 4942.4060 - val_loss: 15211.3066\n",
            "Epoch 21/30\n",
            "58/58 [==============================] - 1s 11ms/step - loss: 5024.7475 - val_loss: 15301.4717\n",
            "Epoch 22/30\n",
            "58/58 [==============================] - 1s 12ms/step - loss: 4871.5427 - val_loss: 15197.9785\n",
            "Epoch 23/30\n",
            "58/58 [==============================] - 1s 11ms/step - loss: 4959.3188 - val_loss: 15259.6660\n",
            "Epoch 24/30\n",
            "58/58 [==============================] - 1s 11ms/step - loss: 4904.0737 - val_loss: 15345.3994\n",
            "Epoch 25/30\n",
            "58/58 [==============================] - 1s 11ms/step - loss: 4849.1378 - val_loss: 15214.0830\n",
            "Epoch 26/30\n",
            "58/58 [==============================] - 1s 11ms/step - loss: 4961.3706 - val_loss: 15232.8115\n",
            "Epoch 27/30\n",
            "58/58 [==============================] - 1s 11ms/step - loss: 4801.7413 - val_loss: 15213.7832\n",
            "Epoch 28/30\n",
            "58/58 [==============================] - 1s 11ms/step - loss: 4848.1807 - val_loss: 15234.7217\n",
            "Epoch 29/30\n",
            "58/58 [==============================] - 1s 11ms/step - loss: 4782.9843 - val_loss: 15354.6836\n",
            "Epoch 30/30\n",
            "58/58 [==============================] - 1s 11ms/step - loss: 4813.5679 - val_loss: 15281.0225\n",
            "Model: \"sequential_25\"\n",
            "_________________________________________________________________\n",
            "Layer (type)                 Output Shape              Param #   \n",
            "=================================================================\n",
            "lstm1 (LSTM)                 (None, 10, 20)            1760      \n",
            "_________________________________________________________________\n",
            "lstm2 (LSTM)                 (None, 20)                3280      \n",
            "_________________________________________________________________\n",
            "dense1 (Dense)               (None, 5)                 105       \n",
            "=================================================================\n",
            "Total params: 5,145\n",
            "Trainable params: 5,145\n",
            "Non-trainable params: 0\n",
            "_________________________________________________________________\n"
          ],
          "name": "stdout"
        }
      ]
    },
    {
      "cell_type": "code",
      "metadata": {
        "colab": {
          "base_uri": "https://localhost:8080/",
          "height": 296
        },
        "id": "gzOSjRRhIRfZ",
        "outputId": "1a16b650-97a5-4ab5-c8b4-fa7a1b8860b7"
      },
      "source": [
        "loss = history.history['loss']\n",
        "val_loss = history.history['val_loss']\n",
        "plt.plot(loss[3:], label='loss')\n",
        "plt.plot(val_loss[3:], label='validation loss')\n",
        "plt.xlabel('epoch')\n",
        "plt.legend()\n",
        "plt.show"
      ],
      "execution_count": 225,
      "outputs": [
        {
          "output_type": "execute_result",
          "data": {
            "text/plain": [
              "<function matplotlib.pyplot.show>"
            ]
          },
          "metadata": {
            "tags": []
          },
          "execution_count": 225
        },
        {
          "output_type": "display_data",
          "data": {
            "image/png": "[encoded data removed]",
            "text/plain": [
              "<Figure size 432x288 with 1 Axes>"
            ]
          },
          "metadata": {
            "tags": [],
            "needs_background": "light"
          }
        }
      ]
    },
    {
      "cell_type": "code",
      "metadata": {
        "colab": {
          "base_uri": "https://localhost:8080/"
        },
        "id": "aFwpeFgcbriO",
        "outputId": "d7357f80-c49d-4959-abbf-efd3661ab863"
      },
      "source": [
        "model.evaluate(X_test_scaled, y_test, return_dict=True)"
      ],
      "execution_count": 226,
      "outputs": [
        {
          "output_type": "stream",
          "text": [
            "17/17 [==============================] - 0s 3ms/step - loss: 19382.8555\n"
          ],
          "name": "stdout"
        },
        {
          "output_type": "execute_result",
          "data": {
            "text/plain": [
              "{'loss': 19382.85546875}"
            ]
          },
          "metadata": {
            "tags": []
          },
          "execution_count": 226
        }
      ]
    },
    {
      "cell_type": "code",
      "metadata": {
        "colab": {
          "base_uri": "https://localhost:8080/",
          "height": 313
        },
        "id": "RVkrpItTd92f",
        "outputId": "d291d8fb-c06e-4ef8-d7cd-ff20e87e01ca"
      },
      "source": [
        "y_pred = model.predict(X_test_scaled)\n",
        "print(y_pred.shape)\n",
        "l = len(y_pred)\n",
        "plt.plot(y_test, label='test')\n",
        "plt.plot(y_pred, label='prediction')\n",
        "plt.ylabel('price')\n",
        "plt.xlabel('day')\n",
        "plt.legend()"
      ],
      "execution_count": 227,
      "outputs": [
        {
          "output_type": "stream",
          "text": [
            "(525, 5)\n"
          ],
          "name": "stdout"
        },
        {
          "output_type": "execute_result",
          "data": {
            "text/plain": [
              "<matplotlib.legend.Legend at 0x7f7ee321bfd0>"
            ]
          },
          "metadata": {
            "tags": []
          },
          "execution_count": 227
        },
        {
          "output_type": "display_data",
          "data": {
            "image/png": "[encoded data removed]",
            "text/plain": [
              "<Figure size 432x288 with 1 Axes>"
            ]
          },
          "metadata": {
            "tags": [],
            "needs_background": "light"
          }
        }
      ]
    },
    {
      "cell_type": "code",
      "metadata": {
        "colab": {
          "base_uri": "https://localhost:8080/",
          "height": 300
        },
        "id": "_r1mJZIsK13H",
        "outputId": "88f2e5c2-8768-4b9b-b006-c9e92faaaa91"
      },
      "source": [
        "plt.plot(y_test, label='test')\n",
        "plt.plot(y_pred, label='prediction')\n",
        "plt.ylabel('price')\n",
        "plt.xlabel('day')\n",
        "plt.legend()"
      ],
      "execution_count": 194,
      "outputs": [
        {
          "output_type": "execute_result",
          "data": {
            "text/plain": [
              "<matplotlib.legend.Legend at 0x7f7ee6c5c710>"
            ]
          },
          "metadata": {
            "tags": []
          },
          "execution_count": 194
        },
        {
          "output_type": "display_data",
          "data": {
            "image/png": "[encoded data removed]",
            "text/plain": [
              "<Figure size 432x288 with 1 Axes>"
            ]
          },
          "metadata": {
            "tags": [],
            "needs_background": "light"
          }
        }
      ]
    },
    {
      "cell_type": "code",
      "metadata": {
        "colab": {
          "base_uri": "https://localhost:8080/",
          "height": 283
        },
        "id": "b_pWV1wl_7vm",
        "outputId": "71fb4f1a-c903-46ef-a9d0-a6b8f39092a5"
      },
      "source": [
        "y_pred = model.predict(X_train_scaled)\n",
        "l = len(y_pred)\n",
        "plt.plot(y_train, label='training')\n",
        "plt.plot(y_pred, label='prediction')\n",
        "plt.legend()"
      ],
      "execution_count": 195,
      "outputs": [
        {
          "output_type": "execute_result",
          "data": {
            "text/plain": [
              "<matplotlib.legend.Legend at 0x7f7ee77cd650>"
            ]
          },
          "metadata": {
            "tags": []
          },
          "execution_count": 195
        },
        {
          "output_type": "display_data",
          "data": {
            "image/png": "[encoded data removed]",
            "text/plain": [
              "<Figure size 432x288 with 1 Axes>"
            ]
          },
          "metadata": {
            "tags": [],
            "needs_background": "light"
          }
        }
      ]
    }
  ]
}